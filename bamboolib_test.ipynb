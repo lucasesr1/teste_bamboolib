import pandas as pd
import bamboolib as bam
df = pd.read_excel('../input/arquivo-teste/arquivo_teste.xlsx')
